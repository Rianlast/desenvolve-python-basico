{
 "cells": [
  {
   "cell_type": "markdown",
   "metadata": {
    "id": "1pCTdOHonv5f"
   },
   "source": [
    "# Módulo 2\n",
    "\n",
    "## 2.3 Instruções e Expressões\n",
    "\n",
    "### Q1\n",
    "\n",
    "Faça um programa que armazene o valor de 20 reais de salário por hora de um trabalhador, e o número de 40 horas trabalhadas na semana. Com essas informações, calcule e imprima:\n",
    "- Salário semanal bruto\n",
    "- Valor descontado por semana INSS (10% do bruto)\n",
    "- Valor descontado por semana pelo sindicato (5% do bruto)\n",
    "- Salário semanal líquido (Bruto - Descontos)"
   ]
  },
  {
   "cell_type": "code",
   "execution_count": null,
   "metadata": {
    "id": "hVbX0I97nj6M"
   },
   "outputs": [],
   "source": [
    "salario_hora = 20\n",
    "horas_trabalhadas = 40\n",
    "\n",
    "salario_semanal_bruto = salario_hora * horas_trabalhadas\n",
    "\n",
    "desconto_inss = salario_semanal_bruto * 0.10\n",
    "desconto_sindicato = salario_semanal_bruto * 0.05\n",
    "\n",
    "salario_semanal_liquido = salario_semanal_bruto - (desconto_inss + desconto_sindicato)\n",
    "\n",
    "print(\"Salário semanal bruto: R$\", salario_semanal_bruto)\n",
    "print(\"Valor descontado por semana INSS: R$\", desconto_inss)\n",
    "print(\"Valor descontado por semana pelo sindicato: R$\", desconto_sindicato)\n",
    "print(\"Salário semanal líquido: R$\", salario_semanal_liquido)\n"
   ]
  },
  {
   "cell_type": "markdown",
   "metadata": {
    "id": "pIxKX9J2oGZ1"
   },
   "source": [
    "### Q2\n",
    "\n",
    "Altere o programa anterior para a partir dos valores de horas trabalhadas por semana e salário por hora, calcular **em somente duas instruções**:\n",
    "- Salário semanal bruto\n",
    "- Salário semanal líquido com todos os descontos. Para a segunda instrução, realize todos os cálculos aritméticos em uma expressão composta.\n"
   ]
  },
  {
   "cell_type": "code",
   "execution_count": null,
   "metadata": {
    "id": "pAHw9Xf9oGoi"
   },
   "outputs": [],
   "source": [
    "salario_hora = 20\n",
    "horas_trabalhadas = 40\n",
    "\n",
    "salario_semanal_bruto = salario_hora * horas_trabalhadas\n",
    "print(\"Salário semanal bruto: R$\", salario_semanal_bruto)\n",
    "\n",
    "salario_semanal_liquido = salario_semanal_bruto * (1 - 0.10 - 0.05)\n",
    "print(\"Salário semanal líquido: R$\", salario_semanal_liquido)\n"
   ]
  },
  {
   "cell_type": "markdown",
   "metadata": {
    "id": "m8tlHRuWpBOB"
   },
   "source": [
    "### Q3\n",
    "\n",
    "Você está desenvolvendo um software de conversão de moeda e precisa calcular o valor equivalente em yuan chinês a partir de uma quantia em real. A taxa de câmbio é de 0.69 BRL (real) para 1 CNY (yuan). Escreva um programa que define em uma variável uma quantia em reais (BRL) e calcula o valor equivalente em yuan (CNY). Imprima o resultado."
   ]
  },
  {
   "cell_type": "code",
   "execution_count": null,
   "metadata": {
    "id": "2bPw7uF6oeL9"
   },
   "outputs": [],
   "source": [
    "# Taxa de câmbio\n",
    "taxa_cambio = 0.69  # 0.69 BRL para 1 CNY\n",
    "\n",
    "# Quantia em reais\n",
    "quantia_brl = float(input(\"Digite a quantia em reais (BRL): \"))\n",
    "\n",
    "# Cálculo do valor equivalente em yuan\n",
    "valor_cny = quantia_brl / taxa_cambio\n",
    "\n",
    "# Impressão do resultado\n",
    "print(f\"{quantia_brl} BRL é equivalente a {valor_cny:.2f} CNY.\")"
   ]
  },
  {
   "cell_type": "markdown",
   "metadata": {
    "id": "-Na3ltDCp74A"
   },
   "source": [
    "### Q4\n",
    "\n",
    "Você é um treinador de corrida e deseja calcular a velocidade média que um atleta precisa manter para completar a Maratona Internacional de São Silvestre, que tem uma distância total de 42.195 km. A fórmula para calcular a velocidade média ($v\\_media$) é dada por $v\\_media = \\frac{distancia}{tempo}$ . Escreva um programa em Python para calcular a velocidade média necessária para completar a maratona em 3 horas.\n",
    "\n",
    "**Calcule e imprima o resultado em metros/segundo**, ou seja, converta a distância de quilômetros para metros ($metro = \\frac{km}{1000}$) e a velocidade de horas para segundos $(segundo = \\frac{hora}{3600})$."
   ]
  },
  {
   "cell_type": "code",
   "execution_count": null,
   "metadata": {
    "id": "Bn6l8kcSrE4L"
   },
   "outputs": [],
   "source": [
    "# Definição das variáveis\n",
    "distancia_m = 2 * 10**4  # 20 km convertidos em metros\n",
    "tempo_horas = 3  # Tempo em horas\n",
    "tempo_segundos = tempo_horas * 3600  # Conversão de horas para segundos\n",
    "\n",
    "# Cálculo da velocidade média em m/s\n",
    "velocidade_media = distancia_m / tempo_segundos\n",
    "\n",
    "# Impressão dos resultados\n",
    "print(f\"A velocidade média necessária é {velocidade_media:.2f} m/s.\")\n",
    "print(f\"O tempo necessário para percorrer 20 km é {tempo_segundos} segundos.\")\n"
   ]
  }
 ],
 "metadata": {
  "colab": {
   "provenance": []
  },
  "kernelspec": {
   "display_name": "Python 3 (ipykernel)",
   "language": "python",
   "name": "python3"
  },
  "language_info": {
   "codemirror_mode": {
    "name": "ipython",
    "version": 3
   },
   "file_extension": ".py",
   "mimetype": "text/x-python",
   "name": "python",
   "nbconvert_exporter": "python",
   "pygments_lexer": "ipython3",
   "version": "3.11.7"
  }
 },
 "nbformat": 4,
 "nbformat_minor": 4
}
